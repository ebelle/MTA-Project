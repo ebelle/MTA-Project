{
 "cells": [
  {
   "cell_type": "code",
   "execution_count": 1,
   "metadata": {},
   "outputs": [],
   "source": [
    "\"\"\"This code downloads tweets filtered by keyword. The keyword can be changed by altering q=\n",
    "in the new_tweets line below.\"\"\"\n",
    "import tweepy\n",
    "import csv\n",
    "\n",
    "consumer_key = \n",
    "consumer_secret = \n",
    "access_key = \n",
    "access_secret = \n",
    "\n",
    "auth = tweepy.OAuthHandler(consumer_key, consumer_secret)\n",
    "auth.set_access_token(access_key, access_secret)\n",
    "api = tweepy.API(auth,wait_on_rate_limit=True)\n",
    "\n",
    "alltweets = []\n",
    "new_tweets = tweepy.Cursor(api.search,q=\"@NYCTSubway\",count=1000,lang=\"en\",since=\"2019-12-07\",tweet_mode=\"extended\").items()\n",
    "alltweets.extend(new_tweets)\n",
    "\n",
    "outtweets = [[tweet.id_str, tweet.created_at, tweet.full_text] for tweet in alltweets]\n",
    "\n",
    "with open('mta_subway_tweets.csv', 'w') as f:\n",
    "    writer = csv.writer(f)\n",
    "    writer.writerow([\"id\",\"created_at\",\"text\"])\n",
    "    writer.writerows(outtweets)"
   ]
  },
  {
   "cell_type": "code",
   "execution_count": null,
   "metadata": {},
   "outputs": [],
   "source": []
  }
 ],
 "metadata": {
  "kernelspec": {
   "display_name": "Python 3",
   "language": "python",
   "name": "python3"
  },
  "language_info": {
   "codemirror_mode": {
    "name": "ipython",
    "version": 3
   },
   "file_extension": ".py",
   "mimetype": "text/x-python",
   "name": "python",
   "nbconvert_exporter": "python",
   "pygments_lexer": "ipython3",
   "version": "3.7.4"
  }
 },
 "nbformat": 4,
 "nbformat_minor": 2
}
